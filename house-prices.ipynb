{
 "cells": [
  {
   "cell_type": "code",
   "execution_count": 17,
   "metadata": {
    "init_cell": true
   },
   "outputs": [],
   "source": [
    "import numpy as np\n",
    "\n",
    "import pandas as pd\n",
    "\n",
    "import matplotlib.pyplot as plt\n",
    "import seaborn as sns\n",
    "\n",
    "from sklearn.preprocessing import LabelEncoder\n",
    "\n",
    "from sklearn.model_selection import train_test_split\n",
    "from sklearn.model_selection import cross_val_score\n",
    "\n",
    "from sklearn.tree import DecisionTreeRegressor\n",
    "from sklearn.ensemble import RandomForestRegressor\n",
    "from sklearn.ensemble import GradientBoostingRegressor"
   ]
  },
  {
   "cell_type": "code",
   "execution_count": 18,
   "metadata": {
    "init_cell": true
   },
   "outputs": [],
   "source": [
    "%matplotlib inline"
   ]
  },
  {
   "cell_type": "markdown",
   "metadata": {},
   "source": [
    "# Loading the Datasets"
   ]
  },
  {
   "cell_type": "code",
   "execution_count": 19,
   "metadata": {
    "init_cell": true
   },
   "outputs": [],
   "source": [
    "hp_train = pd.read_csv('data/train.csv')"
   ]
  },
  {
   "cell_type": "code",
   "execution_count": 20,
   "metadata": {
    "init_cell": true
   },
   "outputs": [],
   "source": [
    "hp_test = pd.read_csv('data/test.csv')"
   ]
  },
  {
   "cell_type": "code",
   "execution_count": 21,
   "metadata": {
    "init_cell": true
   },
   "outputs": [],
   "source": [
    "combined = (hp_train, hp_test)"
   ]
  },
  {
   "cell_type": "code",
   "execution_count": null,
   "metadata": {},
   "outputs": [],
   "source": [
    "hp_train.head()"
   ]
  },
  {
   "cell_type": "code",
   "execution_count": null,
   "metadata": {},
   "outputs": [],
   "source": [
    "hp_train.info()"
   ]
  },
  {
   "cell_type": "code",
   "execution_count": null,
   "metadata": {},
   "outputs": [],
   "source": [
    "hp_test.head()"
   ]
  },
  {
   "cell_type": "code",
   "execution_count": null,
   "metadata": {},
   "outputs": [],
   "source": [
    "hp_test.info()"
   ]
  },
  {
   "cell_type": "code",
   "execution_count": 16,
   "metadata": {},
   "outputs": [
    {
     "data": {
      "text/plain": [
       "LotFrontage     486\n",
       "MasVnrArea       23\n",
       "BsmtFinSF1        1\n",
       "BsmtFinSF2        1\n",
       "BsmtUnfSF         1\n",
       "TotalBsmtSF       1\n",
       "BsmtFullBath      2\n",
       "BsmtHalfBath      2\n",
       "GarageYrBlt     159\n",
       "GarageCars        1\n",
       "GarageArea        1\n",
       "dtype: int64"
      ]
     },
     "execution_count": 16,
     "metadata": {},
     "output_type": "execute_result"
    }
   ],
   "source": [
    "nacols = pd.concat(combined, sort=False).drop('SalePrice', axis=1).isna().sum()\n",
    "nacols[nacols > 0]"
   ]
  },
  {
   "cell_type": "markdown",
   "metadata": {},
   "source": [
    "# Preprocessing"
   ]
  },
  {
   "cell_type": "markdown",
   "metadata": {},
   "source": [
    "## Removing outliers\n",
    "\n",
    "The documentation for the dataset recommends dropping 5 outliers from it, they are all characterized by having GrLivArea > 4000."
   ]
  },
  {
   "cell_type": "code",
   "execution_count": 59,
   "metadata": {},
   "outputs": [],
   "source": [
    "hp_train.drop(hp_train[(hp_train.GrLivArea > 4000)].index, inplace=True)"
   ]
  },
  {
   "cell_type": "markdown",
   "metadata": {},
   "source": [
    "## Using log of SalePrice\n",
    "\n",
    "[Gehsbargs](https://www.kaggle.com/agehsbarg/top-10-0-10943-stacking-mice-and-brutal-force/notebook) suggests, with a quite reasonable argument, that the log of the original target variable should be used as our target."
   ]
  },
  {
   "cell_type": "code",
   "execution_count": 60,
   "metadata": {},
   "outputs": [],
   "source": [
    "hp_train['LogSP'] = hp_train.SalePrice.apply(lambda x: np.log(x + 1))"
   ]
  },
  {
   "cell_type": "markdown",
   "metadata": {},
   "source": [
    "## Filling missing categorical data"
   ]
  },
  {
   "cell_type": "markdown",
   "metadata": {},
   "source": [
    "Later it might pay to replace this arbitrary labelling with something like KNN"
   ]
  },
  {
   "cell_type": "code",
   "execution_count": 61,
   "metadata": {
    "init_cell": true
   },
   "outputs": [],
   "source": [
    "def fill_cat_na (col, fill_val='UKN'):\n",
    "    if col.isna().sum() > 0 and col.dtype.name == 'object':\n",
    "        return col.fillna(fill_val)\n",
    "    return col"
   ]
  },
  {
   "cell_type": "code",
   "execution_count": 65,
   "metadata": {
    "init_cell": true
   },
   "outputs": [],
   "source": [
    "hp_train = hp_train.apply(fill_cat_na)\n",
    "hp_test = hp_test.apply(fill_cat_na)\n",
    "combined = (hp_train, hp_test)"
   ]
  },
  {
   "cell_type": "markdown",
   "metadata": {},
   "source": [
    "## Reencoding categorical data"
   ]
  },
  {
   "cell_type": "code",
   "execution_count": 66,
   "metadata": {},
   "outputs": [],
   "source": [
    "def gen_fit_les (data):\n",
    "    \"\"\"\n",
    "    Generates a dictionary of LabelEncoders with an entry\n",
    "    for each column in data that is of type object\n",
    "    \"\"\"\n",
    "    \n",
    "    cat_cols_les = {x: LabelEncoder() \\\n",
    "                    for x in data if data[x].dtype.name == 'object'}\n",
    "\n",
    "    for item in cat_cols_les.items():\n",
    "        col = item[0]\n",
    "        le = item[1]\n",
    "        le.fit(data[col])\n",
    "        \n",
    "    return cat_cols_les\n",
    "\n",
    "def les_transform (data, le_dict):\n",
    "    \"\"\"\n",
    "    Transforms data's columns with a dictionary generated by\n",
    "    gen_fit_les (above)\n",
    "    \"\"\"\n",
    "    \n",
    "    for item in le_dict.items():\n",
    "        col = item[0]\n",
    "        le = item[1]\n",
    "        data[col] = le.transform(data[col])\n",
    "        \n",
    "def les_inverse_transform (data, le_dict):\n",
    "    \"\"\"\n",
    "    Inverse transforms data's columns with a dictionary generated by\n",
    "    gen_fit_les (above)\n",
    "    \"\"\"\n",
    "    \n",
    "    for item in le_dict.items():\n",
    "        col = item[0]\n",
    "        le = item[1]\n",
    "        \n",
    "        data[col] = le.inverse_transform(data[col])"
   ]
  },
  {
   "cell_type": "code",
   "execution_count": 67,
   "metadata": {},
   "outputs": [],
   "source": [
    "cat_cols_les = gen_fit_les(pd.concat(combined, sort=False))\n",
    "les_transform(hp_train, cat_cols_les)\n",
    "les_transform(hp_test, cat_cols_les)"
   ]
  },
  {
   "cell_type": "markdown",
   "metadata": {},
   "source": [
    "# Random Forest Model"
   ]
  },
  {
   "cell_type": "code",
   "execution_count": 28,
   "metadata": {},
   "outputs": [],
   "source": [
    "nacols = pd.concat(combined, sort=False).isna().sum()\n",
    "nacols = list(nacols[nacols > 0].index)"
   ]
  },
  {
   "cell_type": "code",
   "execution_count": 71,
   "metadata": {},
   "outputs": [],
   "source": [
    "excluded_features = ['SalePrice', 'LogSP', 'Id']"
   ]
  },
  {
   "cell_type": "code",
   "execution_count": 72,
   "metadata": {},
   "outputs": [],
   "source": [
    "used_features = [x for x in hp_test.columns \\\n",
    "                 if x not in nacols + excluded_features]"
   ]
  },
  {
   "cell_type": "code",
   "execution_count": 159,
   "metadata": {},
   "outputs": [],
   "source": [
    "used_features = ['OverallQual',\n",
    "                 'GrLivArea',\n",
    "                 '1stFlrSF',\n",
    "                 '2ndFlrSF',\n",
    "                 'LotArea',\n",
    "                 'YearBuilt',\n",
    "                 'Neighborhood',\n",
    "                 'YearRemodAdd',\n",
    "                 'GarageType'\n",
    "                ]"
   ]
  },
  {
   "cell_type": "code",
   "execution_count": 148,
   "metadata": {},
   "outputs": [],
   "source": [
    "train, test = train_test_split(hp_train[used_features + ['LogSP', 'SalePrice']],\n",
    "                               test_size=0.3)"
   ]
  },
  {
   "cell_type": "code",
   "execution_count": 149,
   "metadata": {},
   "outputs": [
    {
     "data": {
      "text/plain": [
       "RandomForestRegressor(bootstrap=True, criterion='mse', max_depth=None,\n",
       "           max_features='auto', max_leaf_nodes=None,\n",
       "           min_impurity_decrease=0.0, min_impurity_split=None,\n",
       "           min_samples_leaf=1, min_samples_split=2,\n",
       "           min_weight_fraction_leaf=0.0, n_estimators=10, n_jobs=1,\n",
       "           oob_score=False, random_state=None, verbose=0, warm_start=False)"
      ]
     },
     "execution_count": 149,
     "metadata": {},
     "output_type": "execute_result"
    }
   ],
   "source": [
    "model = RandomForestRegressor()\n",
    "model.fit(train[used_features], train['LogSP'])"
   ]
  },
  {
   "cell_type": "code",
   "execution_count": 150,
   "metadata": {},
   "outputs": [],
   "source": [
    "scores = cross_val_score(RandomForestRegressor(),\n",
    "                         hp_train[used_features],\n",
    "                         hp_train['LogSP'],\n",
    "                         scoring='neg_mean_absolute_error'\n",
    "                        )"
   ]
  },
  {
   "cell_type": "code",
   "execution_count": 151,
   "metadata": {},
   "outputs": [
    {
     "name": "stdout",
     "output_type": "stream",
     "text": [
      "CV score: (-1.17 +- 0.02)e-1\n"
     ]
    }
   ],
   "source": [
    "print(\"CV score: ({:.2f} +- {:.2f})e-1\".format(scores.mean() * 10, scores.std() * 10))"
   ]
  },
  {
   "cell_type": "code",
   "execution_count": 132,
   "metadata": {},
   "outputs": [],
   "source": [
    "pred = model.predict(test[used_features]);"
   ]
  },
  {
   "cell_type": "code",
   "execution_count": 133,
   "metadata": {},
   "outputs": [],
   "source": [
    "from sklearn.metrics import mean_absolute_error\n",
    "from sklearn.metrics import mean_squared_log_error"
   ]
  },
  {
   "cell_type": "code",
   "execution_count": 134,
   "metadata": {},
   "outputs": [
    {
     "data": {
      "text/plain": [
       "21336.32093649723"
      ]
     },
     "execution_count": 134,
     "metadata": {},
     "output_type": "execute_result"
    }
   ],
   "source": [
    "mean_absolute_error(test['SalePrice'], np.exp(pred) - 1)"
   ]
  },
  {
   "cell_type": "code",
   "execution_count": 136,
   "metadata": {},
   "outputs": [
    {
     "data": {
      "text/plain": [
       "0.02557924488801257"
      ]
     },
     "execution_count": 136,
     "metadata": {},
     "output_type": "execute_result"
    }
   ],
   "source": [
    "mean_squared_log_error(test['SalePrice'], np.exp(pred) - 1)"
   ]
  },
  {
   "cell_type": "markdown",
   "metadata": {},
   "source": [
    "# Final model & submission"
   ]
  },
  {
   "cell_type": "code",
   "execution_count": 408,
   "metadata": {},
   "outputs": [
    {
     "data": {
      "text/plain": [
       "DecisionTreeRegressor(criterion='mse', max_depth=None, max_features=None,\n",
       "           max_leaf_nodes=None, min_impurity_decrease=0.0,\n",
       "           min_impurity_split=None, min_samples_leaf=1,\n",
       "           min_samples_split=2, min_weight_fraction_leaf=0.0,\n",
       "           presort=False, random_state=None, splitter='best')"
      ]
     },
     "execution_count": 408,
     "metadata": {},
     "output_type": "execute_result"
    }
   ],
   "source": [
    "model_pred = DecisionTreeRegressor()\n",
    "model_pred.fit(hp_train[used_features], hp_train['SalePrice'])"
   ]
  },
  {
   "cell_type": "code",
   "execution_count": 409,
   "metadata": {},
   "outputs": [],
   "source": [
    "predictions = model_pred.predict(hp_test[used_features])"
   ]
  },
  {
   "cell_type": "code",
   "execution_count": 410,
   "metadata": {},
   "outputs": [],
   "source": [
    "results = pd.DataFrame(hp_test['Id'])\n",
    "results['SalePrice'] = predictions\n",
    "results.to_csv('predictions.csv', \n",
    "               columns=('Id', 'SalePrice'), index=False)"
   ]
  },
  {
   "cell_type": "markdown",
   "metadata": {},
   "source": [
    "# Experiments\n",
    "\n",
    "Below this everything is permanently shifting and unstable"
   ]
  },
  {
   "cell_type": "code",
   "execution_count": 153,
   "metadata": {},
   "outputs": [
    {
     "data": {
      "text/plain": [
       "[('OverallQual', 0.5788592864504551),\n",
       " ('GrLivArea', 0.15141658911692923),\n",
       " ('1stFlrSF', 0.08036940668816973),\n",
       " ('2ndFlrSF', 0.011345847224837538),\n",
       " ('LotArea', 0.04565193954212459),\n",
       " ('YearBuilt', 0.04435087608465549),\n",
       " ('Neighborhood', 0.020922515237338693),\n",
       " ('YearRemodAdd', 0.03312309623627638),\n",
       " ('GarageType', 0.0339604434192132)]"
      ]
     },
     "execution_count": 153,
     "metadata": {},
     "output_type": "execute_result"
    }
   ],
   "source": [
    "feature_importances = [*zip(used_features, model.feature_importances_)]\n",
    "feature_importances"
   ]
  },
  {
   "cell_type": "code",
   "execution_count": 42,
   "metadata": {},
   "outputs": [],
   "source": [
    "from operator import itemgetter"
   ]
  },
  {
   "cell_type": "code",
   "execution_count": 120,
   "metadata": {},
   "outputs": [
    {
     "data": {
      "text/plain": [
       "[('OverallQual', 0.5507724013068596),\n",
       " ('GrLivArea', 0.1360465994715698),\n",
       " ('1stFlrSF', 0.05859076406713187),\n",
       " ('2ndFlrSF', 0.04575728131162006),\n",
       " ('LotArea', 0.04218683911271157),\n",
       " ('YearBuilt', 0.022547681346372455),\n",
       " ('Neighborhood', 0.014240992167284328),\n",
       " ('YearRemodAdd', 0.013076231325186427),\n",
       " ('GarageType', 0.012142020668977712)]"
      ]
     },
     "execution_count": 120,
     "metadata": {},
     "output_type": "execute_result"
    }
   ],
   "source": [
    "sorted_features = sorted(feat_importances, key=itemgetter(1))[::-1][0:9]\n",
    "sorted_features"
   ]
  },
  {
   "cell_type": "code",
   "execution_count": 142,
   "metadata": {},
   "outputs": [],
   "source": [
    "used_features = ['OverallQual',\n",
    "                 'GrLivArea',\n",
    "                 '1stFlrSF',\n",
    "                 '2ndFlrSF',\n",
    "                 'LotArea',\n",
    "                 'YearBuilt',\n",
    "                 'Neighborhood',\n",
    "                 'YearRemodAdd',\n",
    "                 'GarageType',\n",
    "                 'HouseStyle'\n",
    "                ]"
   ]
  },
  {
   "cell_type": "code",
   "execution_count": 123,
   "metadata": {
    "scrolled": true
   },
   "outputs": [
    {
     "data": {
      "text/plain": [
       "[('OverallQual', 0.5507724013068596),\n",
       " ('GrLivArea', 0.1360465994715698),\n",
       " ('1stFlrSF', 0.05859076406713187),\n",
       " ('2ndFlrSF', 0.04575728131162006),\n",
       " ('LotArea', 0.04218683911271157),\n",
       " ('YearBuilt', 0.022547681346372455),\n",
       " ('Neighborhood', 0.014240992167284328),\n",
       " ('YearRemodAdd', 0.013076231325186427),\n",
       " ('GarageType', 0.012142020668977712),\n",
       " ('OpenPorchSF', 0.0084664039316899),\n",
       " ('TotRmsAbvGrd', 0.006398929646811093),\n",
       " ('OverallCond', 0.005662343727549199),\n",
       " ('KitchenQual', 0.004830257324840474),\n",
       " ('BsmtQual', 0.004599731994484424),\n",
       " ('PoolQC', 0.004446712718226651),\n",
       " ('BsmtFinType1', 0.004337622382934376),\n",
       " ('GarageFinish', 0.0039273229140841855),\n",
       " ('MSSubClass', 0.00385728334710671),\n",
       " ('BsmtExposure', 0.003663561873854479),\n",
       " ('WoodDeckSF', 0.0036146549647062534),\n",
       " ('Exterior2nd', 0.003522517609834388),\n",
       " ('CentralAir', 0.0028142438986087813),\n",
       " ('YrSold', 0.0026812341884567023),\n",
       " ('Exterior1st', 0.002623437986318856),\n",
       " ('BedroomAbvGr', 0.002623267326503735),\n",
       " ('MoSold', 0.0026016578384532576),\n",
       " ('MSZoning', 0.0025486134599340777),\n",
       " ('Condition2', 0.002491920697236978),\n",
       " ('FireplaceQu', 0.002385851669705134),\n",
       " ('ExterQual', 0.0018682866086451998),\n",
       " ('FullBath', 0.0017872530201181933),\n",
       " ('ExterCond', 0.0017250388437363602),\n",
       " ('Fireplaces', 0.0015943331260579482),\n",
       " ('MasVnrType', 0.001557240756912995),\n",
       " ('SaleCondition', 0.0015224307839498284),\n",
       " ('Fence', 0.0013692867157807415),\n",
       " ('LotConfig', 0.0013573004671654358),\n",
       " ('SaleType', 0.001191904863803849),\n",
       " ('HeatingQC', 0.0010210709721909291),\n",
       " ('LotShape', 0.0009295027149221393),\n",
       " ('RoofStyle', 0.0009190824763127328),\n",
       " ('Functional', 0.0009155406298499179),\n",
       " ('HalfBath', 0.0008627031762452067),\n",
       " ('Foundation', 0.0007240871734756462),\n",
       " ('GarageQual', 0.0006981659689786996),\n",
       " ('BldgType', 0.0006724637635880438),\n",
       " ('HouseStyle', 0.0006684129216270384),\n",
       " ('ScreenPorch', 0.0006657651516272081),\n",
       " ('BsmtFinType2', 0.0006095225540265753),\n",
       " ('PavedDrive', 0.0006074805458711603),\n",
       " ('LandContour', 0.0005378773113750453),\n",
       " ('Condition1', 0.000434408242739518),\n",
       " ('Heating', 0.0003929981567209897),\n",
       " ('BsmtCond', 0.0003712763264572073),\n",
       " ('LandSlope', 0.00035386395345844154),\n",
       " ('EnclosedPorch', 0.0002909965941920769),\n",
       " ('Alley', 0.00023830487553510964),\n",
       " ('KitchenAbvGr', 0.00020355704484187944),\n",
       " ('3SsnPorch', 0.00015127196033824412),\n",
       " ('GarageCond', 8.19233163520343e-05),\n",
       " ('LowQualFinSF', 6.266578578394618e-05),\n",
       " ('Electrical', 5.4825700624202885e-05),\n",
       " ('MiscFeature', 4.974510695061568e-05),\n",
       " ('PoolArea', 2.382814786959253e-05),\n",
       " ('MiscVal', 1.3900513100829771e-05),\n",
       " ('RoofMatl', 1.3303449721053679e-05),\n",
       " ('Utilities', 0.0),\n",
       " ('Street', 0.0)]"
      ]
     },
     "execution_count": 123,
     "metadata": {},
     "output_type": "execute_result"
    }
   ],
   "source": [
    "sorted(feat_importances, key=itemgetter(1))[::-1]"
   ]
  },
  {
   "cell_type": "code",
   "execution_count": 124,
   "metadata": {},
   "outputs": [
    {
     "data": {
      "text/plain": [
       "<matplotlib.axes._subplots.AxesSubplot at 0x7efcee9972b0>"
      ]
     },
     "execution_count": 124,
     "metadata": {},
     "output_type": "execute_result"
    },
    {
     "data": {
      "image/png": "[encoded data removed]",
      "text/plain": [
       "<Figure size 432x288 with 1 Axes>"
      ]
     },
     "metadata": {},
     "output_type": "display_data"
    }
   ],
   "source": [
    "sns.regplot('2ndFlrSF', 'SalePrice', data=hp_train)"
   ]
  },
  {
   "cell_type": "code",
   "execution_count": 155,
   "metadata": {},
   "outputs": [],
   "source": [
    "les_inverse_transform(hp_train, cat_cols_les)"
   ]
  },
  {
   "cell_type": "code",
   "execution_count": 157,
   "metadata": {},
   "outputs": [],
   "source": [
    "les_transform(hp_train, cat_cols_les)"
   ]
  },
  {
   "cell_type": "markdown",
   "metadata": {},
   "source": [
    "## Testing models"
   ]
  },
  {
   "cell_type": "code",
   "execution_count": 158,
   "metadata": {},
   "outputs": [],
   "source": [
    "def model_tester (model, data, features1, features2, target, \n",
    "                  tt_split=0.3, n_reps=10):\n",
    "    scores1 = []\n",
    "    scores2 = []\n",
    "    \n",
    "    print('Evaluating models')\n",
    "    for i in range(n_tries):\n",
    "        train, test = train_test_split(data,\n",
    "                                       test_size=0.3\n",
    "                                      )\n",
    "        \n",
    "        model.fit(train[features1], train[target])\n",
    "        pred1 = model.predict(test[features1])\n",
    "        scores1.append(mean_absolute_error(test[target], pred1))\n",
    "        \n",
    "        model.fit(train[features2], train[target])\n",
    "        pred2 = model.predict(test[features2])\n",
    "        scores2.append(mean_absolute_error(test[target], pred2))\n",
    "        \n",
    "    print('Results:')\n",
    "    print('Model 1: {:.2f} +- {:.2f}'\\\n",
    "          .format(scores1.mean(), scores1.std())\n",
    "         )\n",
    "    print('Model 2: {:.2f} +- {:.2f}'\\\n",
    "          .format(scores2.mean(), scores2.std())\n",
    "         )"
   ]
  },
  {
   "cell_type": "code",
   "execution_count": null,
   "metadata": {},
   "outputs": [],
   "source": [
    "model_tester(RandomForestRegressor(),\n",
    "             hp_train,\n",
    "             used_features,\n",
    "             used_features + ['HouseStyle'],\n",
    "             'SalePrice'\n",
    "            )"
   ]
  }
 ],
 "metadata": {
  "kernelspec": {
   "display_name": "Python 3",
   "language": "python",
   "name": "python3"
  },
  "language_info": {
   "codemirror_mode": {
    "name": "ipython",
    "version": 3
   },
   "file_extension": ".py",
   "mimetype": "text/x-python",
   "name": "python",
   "nbconvert_exporter": "python",
   "pygments_lexer": "ipython3",
   "version": "3.6.5"
  },
  "toc": {
   "base_numbering": 1,
   "nav_menu": {},
   "number_sections": true,
   "sideBar": true,
   "skip_h1_title": false,
   "title_cell": "Table of Contents",
   "title_sidebar": "Contents",
   "toc_cell": false,
   "toc_position": {
    "height": "calc(100% - 180px)",
    "left": "10px",
    "top": "150px",
    "width": "227px"
   },
   "toc_section_display": true,
   "toc_window_display": true
  },
  "varInspector": {
   "cols": {
    "lenName": 16,
    "lenType": 16,
    "lenVar": 40
   },
   "kernels_config": {
    "python": {
     "delete_cmd_postfix": "",
     "delete_cmd_prefix": "del ",
     "library": "var_list.py",
     "varRefreshCmd": "print(var_dic_list())"
    },
    "r": {
     "delete_cmd_postfix": ") ",
     "delete_cmd_prefix": "rm(",
     "library": "var_list.r",
     "varRefreshCmd": "cat(var_dic_list()) "
    }
   },
   "types_to_exclude": [
    "module",
    "function",
    "builtin_function_or_method",
    "instance",
    "_Feature"
   ],
   "window_display": false
  }
 },
 "nbformat": 4,
 "nbformat_minor": 2
}
